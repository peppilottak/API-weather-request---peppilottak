{
 "cells": [
  {
   "cell_type": "code",
   "execution_count": 1,
   "id": "6572cb4a",
   "metadata": {},
   "outputs": [
    {
     "name": "stdout",
     "output_type": "stream",
     "text": [
      "Requirement already satisfied: requests in c:\\users\\peppi\\anaconda3\\lib\\site-packages (2.31.0)\n",
      "Requirement already satisfied: charset-normalizer<4,>=2 in c:\\users\\peppi\\anaconda3\\lib\\site-packages (from requests) (2.0.4)\n",
      "Requirement already satisfied: idna<4,>=2.5 in c:\\users\\peppi\\anaconda3\\lib\\site-packages (from requests) (3.4)\n",
      "Requirement already satisfied: urllib3<3,>=1.21.1 in c:\\users\\peppi\\anaconda3\\lib\\site-packages (from requests) (1.26.16)\n",
      "Requirement already satisfied: certifi>=2017.4.17 in c:\\users\\peppi\\anaconda3\\lib\\site-packages (from requests) (2023.7.22)\n",
      "Note: you may need to restart the kernel to use updated packages.\n"
     ]
    }
   ],
   "source": [
    "pip install requests"
   ]
  },
  {
   "cell_type": "code",
   "execution_count": 2,
   "id": "418a3d85",
   "metadata": {},
   "outputs": [],
   "source": [
    "import requests"
   ]
  },
  {
   "cell_type": "code",
   "execution_count": 4,
   "id": "477a9f2e",
   "metadata": {},
   "outputs": [],
   "source": [
    "def get_weather(api_key, city, country=''):    \n",
    "    base_url = 'http://api.openweathermap.org/data/2.5/weather'\n",
    "    \n",
    "    # Parameters for the API request\n",
    "    params = {\n",
    "        'q': f'{city},{country}',\n",
    "        'appid': api_key,\n",
    "        'units': 'metric'  \n",
    "    }\n",
    "    \n",
    "    try:\n",
    "        # Make the API request\n",
    "        response = requests.get(base_url, params=params)\n",
    "        data = response.json()\n",
    "        \n",
    "        if response.status_code == 200:\n",
    "            temperature = data['main']['temp']\n",
    "            description = data['weather'][0]['description']\n",
    "            print(f'Temperature in {city}: {temperature}°C, Description: {description}')\n",
    "        else:\n",
    "            # Print error message if the request was not successful\n",
    "            print(f'Error: {data[\"message\"]}')\n",
    "\n",
    "    except Exception as e:\n",
    "        # Handle exceptions, such as network errors\n",
    "        print(f'An error occurred: {e}')"
   ]
  },
  {
   "cell_type": "code",
   "execution_count": 5,
   "id": "42ab8eed",
   "metadata": {},
   "outputs": [],
   "source": [
    "if __name__ == '__main__':\n",
    "    api_key = 'a5903681c8c160cfa3128d7642515f25'"
   ]
  },
  {
   "cell_type": "code",
   "execution_count": 8,
   "id": "387b6778",
   "metadata": {},
   "outputs": [
    {
     "name": "stdout",
     "output_type": "stream",
     "text": [
      "Enter city: Singapore\n",
      "Temperature in Singapore: 27.7°C, Description: thunderstorm with light rain\n"
     ]
    }
   ],
   "source": [
    "    # Get user input for city\n",
    "    city = input('Enter city: ')\n",
    "\n",
    "    # Call the function to get and display weather information\n",
    "    get_weather(api_key, city, country)"
   ]
  }
 ],
 "metadata": {
  "kernelspec": {
   "display_name": "Python 3 (ipykernel)",
   "language": "python",
   "name": "python3"
  },
  "language_info": {
   "codemirror_mode": {
    "name": "ipython",
    "version": 3
   },
   "file_extension": ".py",
   "mimetype": "text/x-python",
   "name": "python",
   "nbconvert_exporter": "python",
   "pygments_lexer": "ipython3",
   "version": "3.11.4"
  }
 },
 "nbformat": 4,
 "nbformat_minor": 5
}
